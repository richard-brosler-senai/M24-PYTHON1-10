{
 "cells": [
  {
   "cell_type": "markdown",
   "metadata": {},
   "source": [
    "# Variáveis"
   ]
  },
  {
   "cell_type": "code",
   "execution_count": 1,
   "metadata": {},
   "outputs": [
    {
     "name": "stdout",
     "output_type": "stream",
     "text": [
      "47\n"
     ]
    }
   ],
   "source": [
    "idade = 47\n",
    "print(idade)"
   ]
  },
  {
   "cell_type": "code",
   "execution_count": null,
   "metadata": {},
   "outputs": [
    {
     "name": "stdout",
     "output_type": "stream",
     "text": [
      "Delta: 40\n"
     ]
    },
    {
     "ename": "NameError",
     "evalue": "name 'e' is not defined",
     "output_type": "error",
     "traceback": [
      "\u001b[1;31m---------------------------------------------------------------------------\u001b[0m",
      "\u001b[1;31mNameError\u001b[0m                                 Traceback (most recent call last)",
      "Cell \u001b[1;32mIn[3], line 6\u001b[0m\n\u001b[0;32m      4\u001b[0m d \u001b[38;5;241m=\u001b[39m b \u001b[38;5;241m*\u001b[39m\u001b[38;5;241m*\u001b[39m \u001b[38;5;241m2\u001b[39m \u001b[38;5;241m-\u001b[39m \u001b[38;5;241m4\u001b[39m \u001b[38;5;241m*\u001b[39m a \u001b[38;5;241m*\u001b[39m c \u001b[38;5;66;03m# delta\u001b[39;00m\n\u001b[0;32m      5\u001b[0m \u001b[38;5;28mprint\u001b[39m(\u001b[38;5;124m\"\u001b[39m\u001b[38;5;124mDelta:\u001b[39m\u001b[38;5;124m\"\u001b[39m,d)\n\u001b[1;32m----> 6\u001b[0m \u001b[38;5;28mprint\u001b[39m(\u001b[43me\u001b[49m)\n",
      "\u001b[1;31mNameError\u001b[0m: name 'e' is not defined"
     ]
    }
   ],
   "source": [
    "a = 5\n",
    "b = 10\n",
    "c = 3\n",
    "d = b ** 2 - 4 * a * c # delta\n",
    "print(\"Delta:\",d)\n",
    "print(e) # erro de variável inexistente"
   ]
  },
  {
   "cell_type": "markdown",
   "metadata": {},
   "source": [
    "### Regras para criar uma variável\n",
    "* Criem a variável com um nome que faça sentido ao que ela irá guardar.\n",
    "* Nome deve iniciar com letras ou _\n",
    "* Não pode conter caracter especial ou espaço\n",
    "* Pode conter números desde que iniciado com letras ou _\n",
    "* Não pode ser uma palavra reservado do python"
   ]
  },
  {
   "cell_type": "code",
   "execution_count": 4,
   "metadata": {},
   "outputs": [
    {
     "name": "stdout",
     "output_type": "stream",
     "text": [
      "25\n"
     ]
    }
   ],
   "source": [
    "valor = 10\n",
    "valor = valor + 15\n",
    "print(valor)\n"
   ]
  },
  {
   "cell_type": "markdown",
   "metadata": {},
   "source": [
    "### Laboratório 2.4.7\n",
    "Cenário\n",
    "Aqui está uma breve história:\n",
    "\n",
    "Era uma vez em Appleland, John tinha três maçãs, Maria cinco maçãs e Adam tinha seis maças. Todos ficaram muito felizes e viveram por muito tempo. Fim da história.\n",
    "\n",
    "Sua tarefa:\n",
    "\n",
    "* crie as variáveis: john, mary e adam;\n",
    "* atribuir valores às variáveis. Os valores devem ser iguais aos números de fruto possuído por John, Mary e Adam, respectivamente;\n",
    "* tendo armazenado os números nas variáveis, imprimindo as variáveis em uma linha e separando cada uma delas com uma vírgula;\n",
    "* Agora, crie uma nova variável chamada total_apples igual à adição das três variáveis anteriores.\n",
    "* imprima o valor armazenado em total_apples no console;\n",
    "* experimente com seu código: crie novas variáveis, atribua valores diferentes a elas e execute várias operações aritméticas nelas (por exemplo, +, -, *, /, //, etc.). Tente imprimir uma sequência de caracteres e um número inteiro juntos em uma linha, por exemplo, \"Número total de maças:\" e total_apples."
   ]
  },
  {
   "cell_type": "code",
   "execution_count": 5,
   "metadata": {},
   "outputs": [
    {
     "name": "stdout",
     "output_type": "stream",
     "text": [
      "3,5,6\n",
      "Total de Maçãs: 14\n"
     ]
    }
   ],
   "source": [
    "# Laboratório 2.4.7\n",
    "# john = 3, mary = 5, adam = 6\n",
    "john = 3\n",
    "mary = 5\n",
    "adam = 6\n",
    "# imprimindo os valores\n",
    "print(john,mary,adam,sep=',')\n",
    "# Somando os valores\n",
    "total_apples = john + mary + adam\n",
    "# imprimindo o total\n",
    "print(\"Total de Maçãs:\", total_apples)"
   ]
  },
  {
   "cell_type": "markdown",
   "metadata": {},
   "source": [
    "### Operações com Strings\n",
    "#### Concatenação de Strings"
   ]
  },
  {
   "cell_type": "code",
   "execution_count": 7,
   "metadata": {},
   "outputs": [
    {
     "name": "stdout",
     "output_type": "stream",
     "text": [
      "Olá mundo!\n"
     ]
    }
   ],
   "source": [
    "texto01 = \"Olá\"\n",
    "texto02 = \"mundo!\"\n",
    "texto_final = texto01 + \" \" + texto02 \n",
    "print(texto_final)"
   ]
  },
  {
   "cell_type": "markdown",
   "metadata": {},
   "source": [
    "#### Replicação de String"
   ]
  },
  {
   "cell_type": "code",
   "execution_count": 8,
   "metadata": {},
   "outputs": [
    {
     "name": "stdout",
     "output_type": "stream",
     "text": [
      "+----------------------------------------------------------------------+\n",
      "|                                                                      |\n",
      "+----------------------------------------------------------------------+\n"
     ]
    }
   ],
   "source": [
    "print('+' + '-' * 70 + '+')\n",
    "print('|' + ' ' * 70 + '|')\n",
    "print('+' + '-' * 70 + '+')\n"
   ]
  },
  {
   "cell_type": "code",
   "execution_count": 10,
   "metadata": {},
   "outputs": [
    {
     "name": "stdout",
     "output_type": "stream",
     "text": [
      "+--------+\n",
      "|        |\n",
      "|        |\n",
      "|        |\n",
      "|        |\n",
      "|        |\n",
      "|        |\n",
      "+--------+\n",
      "\n"
     ]
    }
   ],
   "source": [
    "print('+' + '-' * 8 + '+\\n',\n",
    "      ('|' + ' ' * 8  + '|\\n') * 6,\n",
    "      '+' + '-' * 8 + '+\\n',sep=''  )"
   ]
  },
  {
   "cell_type": "markdown",
   "metadata": {},
   "source": [
    "### Operadores de atalho\n",
    "Quando eu tenho uma operação do seguinte modo:\n",
    "variavel = variavel op valor\n",
    "Onde op = operações como soma, subtração, divisão, etc\n",
    "Exemplo:\n",
    "variavel = variavel + 10 => variavel += 10\n",
    "variavel = variavel * 5 => variavel *= 5\n",
    "variavel = variavel ** 2 => variavel **= 2\n"
   ]
  },
  {
   "cell_type": "code",
   "execution_count": 3,
   "metadata": {},
   "outputs": [
    {
     "name": "stdout",
     "output_type": "stream",
     "text": [
      "30\n"
     ]
    }
   ],
   "source": [
    "valor = 2\n",
    "valor = valor * (5 + 10)\n",
    "print(valor)"
   ]
  },
  {
   "cell_type": "code",
   "execution_count": 2,
   "metadata": {},
   "outputs": [
    {
     "name": "stdout",
     "output_type": "stream",
     "text": [
      "30\n"
     ]
    }
   ],
   "source": [
    "valor = 2\n",
    "valor *= 5 + 10\n",
    "print(valor)"
   ]
  },
  {
   "attachments": {
    "image.png": {
     "image/png": "[encoded data removed]"
    }
   },
   "cell_type": "markdown",
   "metadata": {},
   "source": [
    "![image.png](attachment:image.png)"
   ]
  },
  {
   "cell_type": "code",
   "execution_count": 6,
   "metadata": {},
   "outputs": [
    {
     "name": "stdout",
     "output_type": "stream",
     "text": [
      "y = -9.0\n"
     ]
    }
   ],
   "source": [
    "# Lab 2.4.10\n",
    "# Simular com x = 1, x = -1 e x = 0\n",
    "x = -1 # Codifique seus dados de teste aqui.\n",
    "x = float(x)\n",
    "# Escreva seu código aqui.\n",
    "y = 3 * x ** 3 - 2 * x ** 2 + 3 * x - 1\n",
    "print(\"y =\", y)\n"
   ]
  },
  {
   "cell_type": "code",
   "execution_count": null,
   "metadata": {},
   "outputs": [
    {
     "name": "stdout",
     "output_type": "stream",
     "text": [
      "15\n"
     ]
    }
   ],
   "source": [
    "\"\"\" Isso também é uma forma de documentação, porém com várias linhas\n",
    "Esse código irá fazer uma operação matemática\n",
    "Author: Richard Brosler\n",
    "Version: 2024-11-23\n",
    "\"\"\"\n",
    "# Documentação de 1 linha\n",
    "a= 5+10\n",
    "print(a)"
   ]
  }
 ],
 "metadata": {
  "kernelspec": {
   "display_name": "Python 3",
   "language": "python",
   "name": "python3"
  },
  "language_info": {
   "codemirror_mode": {
    "name": "ipython",
    "version": 3
   },
   "file_extension": ".py",
   "mimetype": "text/x-python",
   "name": "python",
   "nbconvert_exporter": "python",
   "pygments_lexer": "ipython3",
   "version": "3.13.0"
  }
 },
 "nbformat": 4,
 "nbformat_minor": 2
}
