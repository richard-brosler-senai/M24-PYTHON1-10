{
 "cells": [
  {
   "cell_type": "markdown",
   "metadata": {},
   "source": [
    "# Interação com usuário\n",
    "### input"
   ]
  },
  {
   "cell_type": "code",
   "execution_count": null,
   "metadata": {},
   "outputs": [
    {
     "name": "stdout",
     "output_type": "stream",
     "text": [
      "Digite seu nome:\n",
      "Olá Richard\n"
     ]
    }
   ],
   "source": [
    "print(\"Digite seu nome:\")\n",
    "nome = input()\n",
    "print(\"Olá\",nome)"
   ]
  },
  {
   "cell_type": "code",
   "execution_count": 2,
   "metadata": {},
   "outputs": [
    {
     "name": "stdout",
     "output_type": "stream",
     "text": [
      "Olá Richard\n"
     ]
    }
   ],
   "source": [
    "nome = input(\"Digite seu nome: \")\n",
    "print(\"Olá\",nome)"
   ]
  },
  {
   "cell_type": "code",
   "execution_count": 4,
   "metadata": {},
   "outputs": [
    {
     "ename": "ValueError",
     "evalue": "invalid literal for int() with base 10: '47 anos'",
     "output_type": "error",
     "traceback": [
      "\u001b[1;31m---------------------------------------------------------------------------\u001b[0m",
      "\u001b[1;31mValueError\u001b[0m                                Traceback (most recent call last)",
      "Cell \u001b[1;32mIn[4], line 2\u001b[0m\n\u001b[0;32m      1\u001b[0m \u001b[38;5;66;03m# Utilizando conversão de tipo string para inteiro\u001b[39;00m\n\u001b[1;32m----> 2\u001b[0m idade \u001b[38;5;241m=\u001b[39m \u001b[38;5;28;43mint\u001b[39;49m\u001b[43m(\u001b[49m\u001b[38;5;28;43minput\u001b[39;49m\u001b[43m(\u001b[49m\u001b[38;5;124;43m\"\u001b[39;49m\u001b[38;5;124;43mDigite sua idade: \u001b[39;49m\u001b[38;5;124;43m\"\u001b[39;49m\u001b[43m)\u001b[49m\u001b[43m)\u001b[49m\n\u001b[0;32m      3\u001b[0m \u001b[38;5;28mprint\u001b[39m(\u001b[38;5;124m\"\u001b[39m\u001b[38;5;124mVocê nasceu no ano\u001b[39m\u001b[38;5;124m\"\u001b[39m,\u001b[38;5;241m2024\u001b[39m\u001b[38;5;241m-\u001b[39midade)\n",
      "\u001b[1;31mValueError\u001b[0m: invalid literal for int() with base 10: '47 anos'"
     ]
    }
   ],
   "source": [
    "# Utilizando conversão de tipo string para inteiro\n",
    "idade = int(input(\"Digite sua idade: \"))\n",
    "print(\"Você nasceu no ano\",2024-idade)"
   ]
  },
  {
   "cell_type": "code",
   "execution_count": 5,
   "metadata": {},
   "outputs": [
    {
     "name": "stdout",
     "output_type": "stream",
     "text": [
      "A temperatura em ºF é  89.6\n"
     ]
    }
   ],
   "source": [
    "# Convertendo string para float\n",
    "temperatura = float(input(\"Digite a temperatura atual em ºC: \"))\n",
    "print(\"A temperatura em ºF é \",temperatura * 1.8 + 32)"
   ]
  },
  {
   "cell_type": "code",
   "execution_count": 6,
   "metadata": {},
   "outputs": [
    {
     "name": "stdout",
     "output_type": "stream",
     "text": [
      "O resultado da soma deles é 58\n"
     ]
    }
   ],
   "source": [
    "# Exemplos de cuidados com operações com string\n",
    "num1 = input(\"Digite um valor: \")\n",
    "num2 = input(\"Digite um outro valor: \")\n",
    "print(\"O resultado da soma deles é\", num1 + num2)"
   ]
  },
  {
   "cell_type": "code",
   "execution_count": 7,
   "metadata": {},
   "outputs": [
    {
     "name": "stdout",
     "output_type": "stream",
     "text": [
      "Esse programa irá multiplicar o valor por 3\n",
      "O resultado é 222\n"
     ]
    }
   ],
   "source": [
    "# Outro exemplo de operação com string\n",
    "print(\"Esse programa irá multiplicar o valor por 3\")\n",
    "valor = input(\"Digite o valor: \")\n",
    "print(\"O resultado é\",valor * 3)"
   ]
  },
  {
   "cell_type": "code",
   "execution_count": 9,
   "metadata": {},
   "outputs": [
    {
     "name": "stdout",
     "output_type": "stream",
     "text": [
      "Sua idade é 47\n"
     ]
    }
   ],
   "source": [
    "# Conversão de valores para texto\n",
    "idade = 47\n",
    "print(\"Sua idade é \" + str(idade))"
   ]
  },
  {
   "attachments": {
    "image.png": {
     "image/png": "[encoded data removed]"
    }
   },
   "cell_type": "markdown",
   "metadata": {},
   "source": [
    "![image.png](attachment:image.png)"
   ]
  },
  {
   "cell_type": "code",
   "execution_count": 13,
   "metadata": {},
   "outputs": [
    {
     "name": "stdout",
     "output_type": "stream",
     "text": [
      "y = -0.19258202567760344\n"
     ]
    }
   ],
   "source": [
    "x = float(input(\"Digite o valor para x: \"))\n",
    "y = 1 / (x + 1 / (x + 1 /( x + 1 / x)))\n",
    "print(\"y =\", y)"
   ]
  },
  {
   "cell_type": "code",
   "execution_count": 16,
   "metadata": {},
   "outputs": [
    {
     "name": "stdout",
     "output_type": "stream",
     "text": [
      "O resultado é 10:40\n"
     ]
    }
   ],
   "source": [
    "# Lab 2.6.11\n",
    "hour = int(input(\"Hora de início (horas): \"))\n",
    "mins = int(input(\"Hora de início (minutos): \"))\n",
    "dura = int(input(\"Duração do evento (minutos): \"))\n",
    "# Calcular tempo total\n",
    "total = hour * 60 + mins + dura\n",
    "# Calculando as horas e minutos final\n",
    "hora = total // 60 % 24\n",
    "minuto = total % 60\n",
    "# Mostrando o resultado\n",
    "print(\"O resultado é \" + str(hora) + ':' + str(minuto))"
   ]
  },
  {
   "cell_type": "code",
   "execution_count": 19,
   "metadata": {},
   "outputs": [
    {
     "name": "stdout",
     "output_type": "stream",
     "text": [
      "O numero invertido é 321\n",
      "<class 'int'>\n"
     ]
    }
   ],
   "source": [
    "# Crie um programa que solicite um numero de até 3 dígitos\n",
    "# e inverter o número usando operações matemáticas\n",
    "# exemplo: 123 => 321\n",
    "# Dica use o operador % e //\n",
    "num = int(input(\"Digite um número de até 3 dígitos: \"))\n",
    "# Calulcar o numinv\n",
    "c = num // 100\n",
    "d = num % 100 // 10\n",
    "u = num % 10\n",
    "numinv = u * 100 + d * 10 + c\n",
    "print(\"O numero invertido é\",numinv)\n",
    "print(type(numinv))"
   ]
  }
 ],
 "metadata": {
  "kernelspec": {
   "display_name": "Python 3",
   "language": "python",
   "name": "python3"
  },
  "language_info": {
   "codemirror_mode": {
    "name": "ipython",
    "version": 3
   },
   "file_extension": ".py",
   "mimetype": "text/x-python",
   "name": "python",
   "nbconvert_exporter": "python",
   "pygments_lexer": "ipython3",
   "version": "3.13.0"
  }
 },
 "nbformat": 4,
 "nbformat_minor": 2
}
