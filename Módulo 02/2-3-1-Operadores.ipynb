{
 "cells": [
  {
   "cell_type": "markdown",
   "metadata": {},
   "source": [
    "# Operadores matemáticos em Python\n",
    "### Exponenciação (**)"
   ]
  },
  {
   "cell_type": "code",
   "execution_count": null,
   "metadata": {},
   "outputs": [
    {
     "name": "stdout",
     "output_type": "stream",
     "text": [
      "8\n",
      "8.0\n",
      "-4\n"
     ]
    }
   ],
   "source": [
    "print( 2 ** 3 )\n",
    "print( 2 ** 3.0 )\n",
    "print( -2 ** 2 ) # Mudança de sinal ocorre após o expoente"
   ]
  },
  {
   "cell_type": "markdown",
   "metadata": {},
   "source": [
    "### Multiplicação (*)"
   ]
  },
  {
   "cell_type": "code",
   "execution_count": 5,
   "metadata": {},
   "outputs": [
    {
     "name": "stdout",
     "output_type": "stream",
     "text": [
      "6\n",
      "6.0\n",
      "6.0\n"
     ]
    }
   ],
   "source": [
    "print(2 * 3)\n",
    "print(2 * 3.0)\n",
    "print(2.0 * 3.0)"
   ]
  },
  {
   "cell_type": "markdown",
   "metadata": {},
   "source": [
    "### Divisão (/)"
   ]
  },
  {
   "cell_type": "code",
   "execution_count": 7,
   "metadata": {},
   "outputs": [
    {
     "name": "stdout",
     "output_type": "stream",
     "text": [
      "0.6666666666666666\n",
      "0.6666666666666666\n",
      "0.6666666666666666\n",
      "2.0\n"
     ]
    }
   ],
   "source": [
    "print(2 / 3)\n",
    "print(2 / 3.0)\n",
    "print(2.0 / 3.0)\n",
    "print(4 / 2)"
   ]
  },
  {
   "cell_type": "markdown",
   "metadata": {},
   "source": [
    "### Divisão inteira (//)\n",
    "Arredondamento para baixo (sempre)"
   ]
  },
  {
   "cell_type": "code",
   "execution_count": 8,
   "metadata": {},
   "outputs": [
    {
     "name": "stdout",
     "output_type": "stream",
     "text": [
      "0\n",
      "1\n",
      "1.0\n",
      "1.0\n",
      "-2\n"
     ]
    }
   ],
   "source": [
    "print( 1 // 2 )\n",
    "print( 3 // 2 )\n",
    "print( 3.0 // 2)\n",
    "print(3 // 2.0)\n",
    "print(-3 // 2)"
   ]
  },
  {
   "cell_type": "markdown",
   "metadata": {},
   "source": [
    "### Resto da divisão (%)"
   ]
  },
  {
   "cell_type": "code",
   "execution_count": 11,
   "metadata": {},
   "outputs": [
    {
     "name": "stdout",
     "output_type": "stream",
     "text": [
      "1\n",
      "1.0\n"
     ]
    },
    {
     "ename": "ZeroDivisionError",
     "evalue": "integer modulo by zero",
     "output_type": "error",
     "traceback": [
      "\u001b[1;31m---------------------------------------------------------------------------\u001b[0m",
      "\u001b[1;31mZeroDivisionError\u001b[0m                         Traceback (most recent call last)",
      "Cell \u001b[1;32mIn[11], line 3\u001b[0m\n\u001b[0;32m      1\u001b[0m \u001b[38;5;28mprint\u001b[39m(\u001b[38;5;241m3\u001b[39m \u001b[38;5;241m%\u001b[39m \u001b[38;5;241m2\u001b[39m)\n\u001b[0;32m      2\u001b[0m \u001b[38;5;28mprint\u001b[39m(\u001b[38;5;241m3.0\u001b[39m \u001b[38;5;241m%\u001b[39m \u001b[38;5;241m2\u001b[39m)\n\u001b[1;32m----> 3\u001b[0m \u001b[38;5;28mprint\u001b[39m(\u001b[38;5;241;43m3\u001b[39;49m\u001b[43m \u001b[49m\u001b[38;5;241;43m%\u001b[39;49m\u001b[43m \u001b[49m\u001b[38;5;241;43m0\u001b[39;49m) \u001b[38;5;66;03m# Dá erro\u001b[39;00m\n",
      "\u001b[1;31mZeroDivisionError\u001b[0m: integer modulo by zero"
     ]
    }
   ],
   "source": [
    "print(3 % 2)\n",
    "print(3.0 % 2)\n",
    "print(3 % 0) # Dá erro"
   ]
  },
  {
   "cell_type": "markdown",
   "metadata": {},
   "source": [
    "### Adição (+)"
   ]
  },
  {
   "cell_type": "code",
   "execution_count": 12,
   "metadata": {},
   "outputs": [
    {
     "name": "stdout",
     "output_type": "stream",
     "text": [
      "4\n",
      "4.0\n",
      "-2.0\n"
     ]
    }
   ],
   "source": [
    "print( 2 + 2 )\n",
    "print( 2 + 2.0 )\n",
    "print( -4 + 2.0 )"
   ]
  },
  {
   "cell_type": "markdown",
   "metadata": {},
   "source": [
    "### Subtração (-)"
   ]
  },
  {
   "cell_type": "code",
   "execution_count": 13,
   "metadata": {},
   "outputs": [
    {
     "name": "stdout",
     "output_type": "stream",
     "text": [
      "1\n",
      "1.0\n",
      "-4.0\n"
     ]
    }
   ],
   "source": [
    "print(3 - 2)\n",
    "print(3.0 - 2)\n",
    "print(-2.0 - 2.0)"
   ]
  },
  {
   "cell_type": "markdown",
   "metadata": {},
   "source": [
    "### Uso do parenteses"
   ]
  },
  {
   "cell_type": "code",
   "execution_count": 14,
   "metadata": {},
   "outputs": [
    {
     "name": "stdout",
     "output_type": "stream",
     "text": [
      "30.0\n"
     ]
    }
   ],
   "source": [
    "print(4 * 7 + 2 / (2 - 1))"
   ]
  },
  {
   "cell_type": "markdown",
   "metadata": {},
   "source": [
    "### Prioridades de operadores\n",
    "Seq | Operador | Descrição\n",
    "--- |:--------:| ---------\n",
    "1 | ** | Exponenciação\n",
    "2 | +,- | Unários de sinais\n",
    "3 | *,/,//,% | Multiplicação, Divisão, Divisão inteira, Resto\n",
    "4 | +,- | Soma e Subtração"
   ]
  }
 ],
 "metadata": {
  "kernelspec": {
   "display_name": "Python 3",
   "language": "python",
   "name": "python3"
  },
  "language_info": {
   "codemirror_mode": {
    "name": "ipython",
    "version": 3
   },
   "file_extension": ".py",
   "mimetype": "text/x-python",
   "name": "python",
   "nbconvert_exporter": "python",
   "pygments_lexer": "ipython3",
   "version": "3.13.0"
  }
 },
 "nbformat": 4,
 "nbformat_minor": 2
}
