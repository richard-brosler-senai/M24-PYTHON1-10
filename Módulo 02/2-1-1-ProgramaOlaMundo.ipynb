{
 "cells": [
  {
   "cell_type": "markdown",
   "metadata": {},
   "source": [
    "# Meu Primeiro Programa\n",
    "## Comando print"
   ]
  },
  {
   "cell_type": "code",
   "execution_count": 2,
   "metadata": {},
   "outputs": [
    {
     "name": "stdout",
     "output_type": "stream",
     "text": [
      "Olá mundo\n"
     ]
    }
   ],
   "source": [
    "print(\"Olá mundo\")"
   ]
  },
  {
   "cell_type": "code",
   "execution_count": 3,
   "metadata": {},
   "outputs": [
    {
     "name": "stdout",
     "output_type": "stream",
     "text": [
      "A aranha subiu a colina\n",
      "\n",
      "A chuva veio e a molhou\n"
     ]
    }
   ],
   "source": [
    "print(\"A aranha subiu a colina\")\n",
    "print()\n",
    "print(\"A chuva veio e a molhou\")"
   ]
  },
  {
   "cell_type": "code",
   "execution_count": 4,
   "metadata": {},
   "outputs": [
    {
     "name": "stdout",
     "output_type": "stream",
     "text": [
      "A aranha\n",
      "Subiu a montanha\n",
      "\n",
      "Veio a chuva\n",
      "e a molhou\n"
     ]
    }
   ],
   "source": [
    "# Utilizando escapes\n",
    "print(\"A aranha\\nSubiu a montanha\")\n",
    "print()\n",
    "print(\"Veio a chuva\\ne a molhou\")"
   ]
  },
  {
   "cell_type": "code",
   "execution_count": 5,
   "metadata": {},
   "outputs": [
    {
     "name": "stdout",
     "output_type": "stream",
     "text": [
      "O professor falou:\"Bom dia\"\n",
      "c:\\temp\\arquivo.txt\n",
      "123456\t56\t78\t90\n",
      "123\t456\t789\t012\n"
     ]
    }
   ],
   "source": [
    "print(\"O professor falou:\\\"Bom dia\\\"\")\n",
    "print(\"c:\\\\temp\\\\arquivo.txt\")\n",
    "print(\"123456\\t56\\t78\\t90\") # utilizando tabulação \\t\n",
    "print(\"123\\t456\\t789\\t012\")"
   ]
  },
  {
   "cell_type": "code",
   "execution_count": 6,
   "metadata": {},
   "outputs": [
    {
     "ename": "SyntaxError",
     "evalue": "positional argument follows keyword argument (2449869458.py, line 2)",
     "output_type": "error",
     "traceback": [
      "\u001b[1;36m  Cell \u001b[1;32mIn[6], line 2\u001b[1;36m\u001b[0m\n\u001b[1;33m    print(sep=\"*\",\"texto\") # Dá erro\u001b[0m\n\u001b[1;37m                         ^\u001b[0m\n\u001b[1;31mSyntaxError\u001b[0m\u001b[1;31m:\u001b[0m positional argument follows keyword argument\n"
     ]
    }
   ],
   "source": [
    "print(\"A aranha\",\"subiu\",\"a\",\"montanha\",sep=\"-\")\n",
    "print(sep=\"*\",\"texto\") # Dá erro"
   ]
  },
  {
   "cell_type": "code",
   "execution_count": 13,
   "metadata": {},
   "outputs": [
    {
     "name": "stdout",
     "output_type": "stream",
     "text": [
      "A aranha-subiu-a-montanha***Veio a chuva e a molhou.\n"
     ]
    }
   ],
   "source": [
    "print(\"A aranha\",\"subiu\",\"a\",\"montanha\",sep=\"-\",end=\"***\")\n",
    "print(\"Veio a chuva e a molhou.\")"
   ]
  }
 ],
 "metadata": {
  "kernelspec": {
   "display_name": "Python 3",
   "language": "python",
   "name": "python3"
  },
  "language_info": {
   "codemirror_mode": {
    "name": "ipython",
    "version": 3
   },
   "file_extension": ".py",
   "mimetype": "text/x-python",
   "name": "python",
   "nbconvert_exporter": "python",
   "pygments_lexer": "ipython3",
   "version": "3.13.0"
  }
 },
 "nbformat": 4,
 "nbformat_minor": 2
}
