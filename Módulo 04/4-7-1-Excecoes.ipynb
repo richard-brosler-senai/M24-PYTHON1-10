{
 "cells": [
  {
   "cell_type": "markdown",
   "metadata": {},
   "source": [
    "# Exceções (erros)\n",
    "Vamos aprender a tratar erros de execução no python"
   ]
  },
  {
   "cell_type": "code",
   "execution_count": 7,
   "metadata": {},
   "outputs": [
    {
     "name": "stdout",
     "output_type": "stream",
     "text": [
      "Ocorreu um erro!\n"
     ]
    }
   ],
   "source": [
    "try:\n",
    "  # Se digitar letra dá erro de ValueError\n",
    "  valor = int(input(\"Digite um valor: \"))\n",
    "  # Se digitar (0) vai dar erro de ZeroDivisionError\n",
    "  print(5/valor)\n",
    "  # Isso dá erro AttributeError\n",
    "  # print(valor.seila())\n",
    "except:\n",
    "  print(\"Ocorreu um erro!\")"
   ]
  },
  {
   "cell_type": "code",
   "execution_count": 11,
   "metadata": {},
   "outputs": [
    {
     "ename": "SyntaxError",
     "evalue": "'break' outside loop (2227427254.py, line 6)",
     "output_type": "error",
     "traceback": [
      "\u001b[1;36m  Cell \u001b[1;32mIn[11], line 6\u001b[1;36m\u001b[0m\n\u001b[1;33m    break\u001b[0m\n\u001b[1;37m    ^\u001b[0m\n\u001b[1;31mSyntaxError\u001b[0m\u001b[1;31m:\u001b[0m 'break' outside loop\n"
     ]
    }
   ],
   "source": [
    "try:\n",
    "  # Se digitar letra dá erro de ValueError\n",
    "  valor = int(input(\"Digite um valor: \"))\n",
    "  # Se digitar (0) vai dar erro de ZeroDivisionError\n",
    "  print(5/valor)\n",
    "  # Isso dá erro AttributeError\n",
    "  # print(valor.seila())\n",
    "except ValueError:\n",
    "  print(\"Ocorreu um erro de conversão de tipos!\")\n",
    "except ZeroDivisionError:\n",
    "  print(\"Ocorreu uma divisão por zero\")\n",
    "except: # Se não for nenhum dos erros acima, entra aqui desde que seja erro\n",
    "  print(\"Erro não conhecido!\")"
   ]
  },
  {
   "cell_type": "code",
   "execution_count": 12,
   "metadata": {},
   "outputs": [
    {
     "name": "stdout",
     "output_type": "stream",
     "text": [
      "Ocorreu um erro de conversão de tipos!\n",
      "ou Ocorreu uma divisão por zero\n"
     ]
    }
   ],
   "source": [
    "try:\n",
    "  # Se digitar letra dá erro de ValueError\n",
    "  valor = int(input(\"Digite um valor: \"))\n",
    "  # Se digitar (0) vai dar erro de ZeroDivisionError\n",
    "  print(5/valor)\n",
    "  # Isso dá erro AttributeError\n",
    "  # print(valor.seila())\n",
    "except (ValueError,ZeroDivisionError):\n",
    "  print(\"Ocorreu um erro de conversão de tipos!\")\n",
    "  print(\"ou Ocorreu uma divisão por zero\")\n",
    "except: # Se não for nenhum dos erros acima, entra aqui desde que seja erro\n",
    "  print(\"Erro não conhecido!\")"
   ]
  }
 ],
 "metadata": {
  "kernelspec": {
   "display_name": "Python 3",
   "language": "python",
   "name": "python3"
  },
  "language_info": {
   "codemirror_mode": {
    "name": "ipython",
    "version": 3
   },
   "file_extension": ".py",
   "mimetype": "text/x-python",
   "name": "python",
   "nbconvert_exporter": "python",
   "pygments_lexer": "ipython3",
   "version": "3.13.0"
  }
 },
 "nbformat": 4,
 "nbformat_minor": 2
}
