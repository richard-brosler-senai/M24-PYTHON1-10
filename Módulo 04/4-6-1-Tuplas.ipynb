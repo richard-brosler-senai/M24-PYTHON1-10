{
 "cells": [
  {
   "cell_type": "markdown",
   "metadata": {},
   "source": [
    "# tuplas\n",
    "São conjuntos somente leitura"
   ]
  },
  {
   "cell_type": "code",
   "execution_count": 3,
   "metadata": {},
   "outputs": [
    {
     "name": "stdout",
     "output_type": "stream",
     "text": [
      "(1, 2, 3, 4, 5) (1, 2, 3, 4, 5)\n"
     ]
    },
    {
     "ename": "AttributeError",
     "evalue": "'tuple' object has no attribute 'append'",
     "output_type": "error",
     "traceback": [
      "\u001b[1;31m---------------------------------------------------------------------------\u001b[0m",
      "\u001b[1;31mAttributeError\u001b[0m                            Traceback (most recent call last)",
      "Cell \u001b[1;32mIn[3], line 5\u001b[0m\n\u001b[0;32m      3\u001b[0m tupla2 \u001b[38;5;241m=\u001b[39m \u001b[38;5;241m1\u001b[39m,\u001b[38;5;241m2\u001b[39m,\u001b[38;5;241m3\u001b[39m,\u001b[38;5;241m4\u001b[39m,\u001b[38;5;241m5\u001b[39m\n\u001b[0;32m      4\u001b[0m \u001b[38;5;28mprint\u001b[39m(tupla, tupla2)\n\u001b[1;32m----> 5\u001b[0m \u001b[43mtupla\u001b[49m\u001b[38;5;241;43m.\u001b[39;49m\u001b[43mappend\u001b[49m(\u001b[38;5;241m5\u001b[39m) \u001b[38;5;66;03m# Não há append nem insert\u001b[39;00m\n\u001b[0;32m      6\u001b[0m \u001b[38;5;28;01mdel\u001b[39;00m tupla[\u001b[38;5;241m2\u001b[39m] \u001b[38;5;66;03m# isso dá erro\u001b[39;00m\n",
      "\u001b[1;31mAttributeError\u001b[0m: 'tuple' object has no attribute 'append'"
     ]
    }
   ],
   "source": [
    "# Criando uma tupla\n",
    "tupla = (1,2,3,4,5)\n",
    "tupla2 = 1,2,3,4,5\n",
    "print(tupla, tupla2)\n",
    "tupla.append(5) # Não há append nem insert\n",
    "del tupla[2] # isso dá erro"
   ]
  },
  {
   "cell_type": "code",
   "execution_count": 4,
   "metadata": {},
   "outputs": [
    {
     "name": "stdout",
     "output_type": "stream",
     "text": [
      "(1, 2, 3)\n"
     ]
    }
   ],
   "source": [
    "tupla = () # definindo uma tupla em branco\n",
    "tupla = tupla + (1,2,3) # isso é permitido\n",
    "print(tupla)\n",
    "# A operação de soma cria uma nova tupla resultante"
   ]
  },
  {
   "cell_type": "markdown",
   "metadata": {},
   "source": [
    "### Dicionários"
   ]
  },
  {
   "cell_type": "code",
   "execution_count": 7,
   "metadata": {},
   "outputs": [
    {
     "name": "stdout",
     "output_type": "stream",
     "text": [
      "rua das ruas\n",
      "{'nome': 'Richard', 'endereco': 'rua das ruas', 'telefone': '123', 'cidade': 'bauru'}\n",
      "{'nome': 'Richard', 'telefone': '123', 'cidade': 'bauru'}\n"
     ]
    }
   ],
   "source": [
    "dicio = { \"chave\": \"valor\" }\n",
    "dicio = { \"nome\": \"Richard\", \n",
    "         \"endereco\": \"rua das ruas\",\n",
    "         \"telefone\": \"123\"}\n",
    "print(dicio[\"endereco\"])\n",
    "#adicionando itens ao dicionario\n",
    "dicio[\"cidade\"] = \"bauru\"\n",
    "print(dicio)\n",
    "del dicio[\"endereco\"]\n",
    "print(dicio)"
   ]
  },
  {
   "cell_type": "code",
   "execution_count": 11,
   "metadata": {},
   "outputs": [
    {
     "name": "stdout",
     "output_type": "stream",
     "text": [
      "dict_keys(['nome', 'telefone', 'cidade'])\n",
      "dict_values(['Richard', '123', 'bauru'])\n",
      "dict_items([('nome', 'Richard'), ('telefone', '123'), ('cidade', 'bauru')])\n"
     ]
    }
   ],
   "source": [
    "# Aproveitando o dicio da celula anterior\n",
    "print(dicio.keys()) # retorna as chaves do dicio\n",
    "print(dicio.values()) # retorna os valores\n",
    "print(dicio.items()) # retorna os itens"
   ]
  },
  {
   "cell_type": "code",
   "execution_count": 14,
   "metadata": {},
   "outputs": [
    {
     "name": "stdout",
     "output_type": "stream",
     "text": [
      "nome, telefone, cidade, \n",
      "Richard, 123, bauru, \n",
      "('nome', 'Richard')\n",
      "('telefone', '123')\n",
      "('cidade', 'bauru')\n"
     ]
    }
   ],
   "source": [
    "for ch in dicio.keys():\n",
    "    print(ch,end=\", \")\n",
    "print()\n",
    "for vl in dicio.values():\n",
    "    print(vl,end=\", \")\n",
    "print()\n",
    "for it in dicio.items():\n",
    "    print(it)"
   ]
  },
  {
   "cell_type": "code",
   "execution_count": 15,
   "metadata": {},
   "outputs": [
    {
     "name": "stdout",
     "output_type": "stream",
     "text": [
      "nome = Richard\n",
      "telefone = 123\n",
      "cidade = bauru\n"
     ]
    }
   ],
   "source": [
    "for ch, vl in dicio.items():\n",
    "    print(ch,\"=\",vl)"
   ]
  },
  {
   "cell_type": "code",
   "execution_count": 16,
   "metadata": {},
   "outputs": [
    {
     "name": "stdout",
     "output_type": "stream",
     "text": [
      "{'nome': 'Richard', 'telefones': [12345, 67890], 'pais': ('nome do pai', 'nome da mãe'), 'endereco': {'logradouro': 'Rua 25 de março', 'numero': 153, 'bairro': 'centro', 'cidade': 'bauru', 'estado': 'sp'}}\n"
     ]
    }
   ],
   "source": [
    "# Juntando os conjuntos\n",
    "dicio = {\n",
    "  \"nome\": \"Richard\",\n",
    "  \"telefones\": [12345, 67890],\n",
    "  \"pais\": (\"nome do pai\", \"nome da mãe\"),\n",
    "  \"endereco\": {\n",
    "    \"logradouro\": \"rua das ruas\",\n",
    "    \"numero\": 153,\n",
    "    \"bairro\": \"centro\",\n",
    "    \"cidade\": \"bauru\",\n",
    "    \"estado\": \"sp\"\n",
    "  }\n",
    "}\n",
    "dicio[\"endereco\"][\"logradouro\"] = \\\n",
    "    input(\"Digite seu endereço: \")\n",
    "print(dicio)"
   ]
  }
 ],
 "metadata": {
  "kernelspec": {
   "display_name": "Python 3",
   "language": "python",
   "name": "python3"
  },
  "language_info": {
   "codemirror_mode": {
    "name": "ipython",
    "version": 3
   },
   "file_extension": ".py",
   "mimetype": "text/x-python",
   "name": "python",
   "nbconvert_exporter": "python",
   "pygments_lexer": "ipython3",
   "version": "3.13.0"
  }
 },
 "nbformat": 4,
 "nbformat_minor": 2
}
