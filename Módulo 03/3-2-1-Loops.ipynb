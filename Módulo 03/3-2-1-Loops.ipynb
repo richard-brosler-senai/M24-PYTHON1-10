{
 "cells": [
  {
   "cell_type": "markdown",
   "metadata": {},
   "source": [
    "# Loops\n",
    "### while (enquanto)"
   ]
  },
  {
   "cell_type": "code",
   "execution_count": 2,
   "metadata": {},
   "outputs": [
    {
     "name": "stdout",
     "output_type": "stream",
     "text": [
      "Mostrando algo...\n"
     ]
    }
   ],
   "source": [
    "# Laço infinito\n",
    "while True:\n",
    "  print(\"Mostrando algo...\")\n",
    "  break # Quebrando o laço infinito..."
   ]
  },
  {
   "cell_type": "code",
   "execution_count": 4,
   "metadata": {},
   "outputs": [
    {
     "name": "stdout",
     "output_type": "stream",
     "text": [
      "O maior número foi 10\n",
      "Fim do programa\n"
     ]
    }
   ],
   "source": [
    "maior_numero = -999_999_999\n",
    "numero = 0\n",
    "while numero != -1:\n",
    "    numero = int(input(\"Digite um número (-1 = fim): \"))\n",
    "    if numero > maior_numero:\n",
    "        maior_numero = numero\n",
    "print(\"O maior número foi\", maior_numero)\n",
    "print(\"Fim do programa\")"
   ]
  },
  {
   "cell_type": "code",
   "execution_count": 5,
   "metadata": {},
   "outputs": [
    {
     "name": "stdout",
     "output_type": "stream",
     "text": [
      "0\n",
      "1\n",
      "2\n",
      "3\n",
      "4\n",
      "5\n",
      "6\n",
      "7\n",
      "8\n",
      "9\n",
      "Fim do programa\n"
     ]
    }
   ],
   "source": [
    "# Contador usando while\n",
    "contador = 0\n",
    "while contador < 10:\n",
    "    print(contador)\n",
    "    contador += 1 # contador = contador + 1\n",
    "print(\"Fim do programa\")"
   ]
  },
  {
   "cell_type": "markdown",
   "metadata": {},
   "source": [
    "### laço for"
   ]
  },
  {
   "cell_type": "code",
   "execution_count": 6,
   "metadata": {},
   "outputs": [
    {
     "name": "stdout",
     "output_type": "stream",
     "text": [
      "0\n",
      "1\n",
      "2\n",
      "3\n",
      "4\n",
      "5\n",
      "6\n",
      "7\n",
      "8\n",
      "9\n",
      "Fim do programa\n"
     ]
    }
   ],
   "source": [
    "for contador in range(10):\n",
    "    print(contador)\n",
    "print(\"Fim do programa\")"
   ]
  },
  {
   "cell_type": "code",
   "execution_count": 7,
   "metadata": {},
   "outputs": [
    {
     "name": "stdout",
     "output_type": "stream",
     "text": [
      "1\n",
      "2\n",
      "3\n",
      "4\n",
      "5\n",
      "6\n",
      "7\n",
      "8\n",
      "9\n",
      "Fim do programa\n"
     ]
    }
   ],
   "source": [
    "# Range com 2 parametros (inicio, fim)\n",
    "for contador in range(1,10):\n",
    "    print(contador)\n",
    "print(\"Fim do programa\")"
   ]
  },
  {
   "cell_type": "code",
   "execution_count": 9,
   "metadata": {},
   "outputs": [
    {
     "name": "stdout",
     "output_type": "stream",
     "text": [
      "1\n",
      "3\n",
      "5\n",
      "7\n",
      "9\n",
      "Fim do programa\n"
     ]
    }
   ],
   "source": [
    "# range com 3 parametros (inicio,fim,passo)\n",
    "for contador in range(1,10,2):\n",
    "    print(contador)\n",
    "print(\"Fim do programa\")"
   ]
  },
  {
   "cell_type": "code",
   "execution_count": 12,
   "metadata": {},
   "outputs": [
    {
     "name": "stdout",
     "output_type": "stream",
     "text": [
      "-1\n",
      "-2\n",
      "-3\n",
      "-4\n",
      "-5\n",
      "-6\n",
      "-7\n",
      "-8\n",
      "-9\n",
      "-10\n",
      "Fim do programa\n"
     ]
    }
   ],
   "source": [
    "# contar de -1 até -10\n",
    "for contador in range(-1,-11,-1):\n",
    "    print(contador)\n",
    "print(\"Fim do programa\")"
   ]
  },
  {
   "cell_type": "markdown",
   "metadata": {},
   "source": [
    "### break e continue"
   ]
  },
  {
   "cell_type": "code",
   "execution_count": 13,
   "metadata": {},
   "outputs": [
    {
     "name": "stdout",
     "output_type": "stream",
     "text": [
      "0\n",
      "1\n",
      "2\n",
      "Fim do programa\n"
     ]
    }
   ],
   "source": [
    "contador = 0\n",
    "while True: # laço infinito\n",
    "  print(contador)\n",
    "  contador += 1\n",
    "  if contador == 3: break\n",
    "print(\"Fim do programa\")"
   ]
  },
  {
   "cell_type": "code",
   "execution_count": 18,
   "metadata": {},
   "outputs": [
    {
     "name": "stdout",
     "output_type": "stream",
     "text": [
      "1\n",
      "2\n",
      "4\n",
      "5\n",
      "6\n",
      "7\n",
      "8\n",
      "9\n",
      "10\n",
      "Fim do programa\n"
     ]
    }
   ],
   "source": [
    "# Exemplo de uso do continue\n",
    "contador = 0\n",
    "while contador < 10:\n",
    "    contador += 1\n",
    "    if contador == 3: continue\n",
    "    print(contador)\n",
    "print(\"Fim do programa\")"
   ]
  },
  {
   "cell_type": "markdown",
   "metadata": {},
   "source": [
    "### ramificação else em loops"
   ]
  },
  {
   "cell_type": "code",
   "execution_count": 21,
   "metadata": {},
   "outputs": [
    {
     "name": "stdout",
     "output_type": "stream",
     "text": [
      "1\n",
      "2\n",
      "3\n",
      "Fim do programa\n"
     ]
    }
   ],
   "source": [
    "for contador in range(1,5):\n",
    "    print(contador)\n",
    "    if contador == 3: break\n",
    "else:\n",
    "    print(\"Else do for\") # com break não executa\n",
    "print(\"Fim do programa\")"
   ]
  },
  {
   "cell_type": "code",
   "execution_count": 23,
   "metadata": {},
   "outputs": [
    {
     "name": "stdout",
     "output_type": "stream",
     "text": [
      "1\n",
      "2\n",
      "3\n",
      "4\n",
      "4\n",
      "Fim do programa\n"
     ]
    }
   ],
   "source": [
    "contador = 999\n",
    "for contador in range(1,5):\n",
    "    print(contador)\n",
    "else:\n",
    "    print(contador)\n",
    "print(\"Fim do programa\")"
   ]
  },
  {
   "cell_type": "code",
   "execution_count": 30,
   "metadata": {},
   "outputs": [
    {
     "name": "stdout",
     "output_type": "stream",
     "text": [
      "A altura da pirâmide: 44\n"
     ]
    }
   ],
   "source": [
    "# Lab 3.2.14\n",
    "blocks = int(input(\"Insira o número de blocos:\"))  \n",
    "# Escreva seu código aqui.\n",
    "altura = 0\n",
    "n_blocos = 0\n",
    "while n_blocos + altura + 1 <= blocks:\n",
    "    altura += 1 # altura = altura + 1\n",
    "    n_blocos += altura\n",
    "#\n",
    "print(\"A altura da pirâmide:\", altura)"
   ]
  },
  {
   "cell_type": "code",
   "execution_count": 32,
   "metadata": {},
   "outputs": [
    {
     "name": "stdout",
     "output_type": "stream",
     "text": [
      "ltr"
     ]
    }
   ],
   "source": [
    "# lab 3.2.10 (feio comedor de vogais)\n",
    "palavra = input(\"Digite um texto: \")\n",
    "for letra in palavra:\n",
    "    if letra == 'a': continue\n",
    "    elif letra == 'e': continue\n",
    "    elif letra == 'i': continue\n",
    "    elif letra == 'o': continue\n",
    "    elif letra == 'u': continue\n",
    "    print(letra,end='')\n"
   ]
  },
  {
   "cell_type": "code",
   "execution_count": null,
   "metadata": {},
   "outputs": [
    {
     "name": "stdout",
     "output_type": "stream",
     "text": [
      "ltr\n"
     ]
    }
   ],
   "source": [
    "# lab 3.2.11 (bonito comedor de vogais)\n",
    "palavra = input(\"Digite um texto: \")\n",
    "frase = \"\"\n",
    "for letra in palavra:\n",
    "    if letra == 'a': continue\n",
    "    elif letra == 'e': continue\n",
    "    elif letra == 'i': continue\n",
    "    elif letra == 'o': continue\n",
    "    elif letra == 'u': continue\n",
    "    frase += letra # concatenando letras\n",
    "print(frase)"
   ]
  }
 ],
 "metadata": {
  "kernelspec": {
   "display_name": "Python 3",
   "language": "python",
   "name": "python3"
  },
  "language_info": {
   "codemirror_mode": {
    "name": "ipython",
    "version": 3
   },
   "file_extension": ".py",
   "mimetype": "text/x-python",
   "name": "python",
   "nbconvert_exporter": "python",
   "pygments_lexer": "ipython3",
   "version": "3.13.0"
  }
 },
 "nbformat": 4,
 "nbformat_minor": 2
}
