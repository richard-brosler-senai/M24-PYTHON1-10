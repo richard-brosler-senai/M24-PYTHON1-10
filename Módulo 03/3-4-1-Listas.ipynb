{
 "cells": [
  {
   "cell_type": "markdown",
   "metadata": {},
   "source": [
    "# Listas\n",
    "```python\n",
    "nota01 = float(input(\"Digite a nota do aluno 01: \"))\n",
    "nota02 = float(input(\"Digite a nota do aluno 02: \"))\n",
    "# ....\n",
    "notann = float(input(\"Digite a nota do aluno nn: \"))\n",
    "```\n",
    "Isso é inviável na programação, imaginem 100 alunos?\n",
    "```python\n",
    "lista = [] # defino uma lista vazia\n",
    "listaNumeros = [1,2,3,4,5] # Lista de números inteiros\n",
    "```"
   ]
  },
  {
   "cell_type": "code",
   "execution_count": null,
   "metadata": {},
   "outputs": [
    {
     "name": "stdout",
     "output_type": "stream",
     "text": [
      "[1, 2, 3, 4, 5]\n",
      "4\n",
      "5\n",
      "[1, 2, 3, 5] 4\n"
     ]
    },
    {
     "ename": "IndexError",
     "evalue": "list index out of range",
     "output_type": "error",
     "traceback": [
      "\u001b[1;31m---------------------------------------------------------------------------\u001b[0m",
      "\u001b[1;31mIndexError\u001b[0m                                Traceback (most recent call last)",
      "Cell \u001b[1;32mIn[9], line 9\u001b[0m\n\u001b[0;32m      7\u001b[0m \u001b[38;5;28;01mdel\u001b[39;00m lista[\u001b[38;5;241m3\u001b[39m] \u001b[38;5;66;03m# estou eliminando o indice 3 da lista\u001b[39;00m\n\u001b[0;32m      8\u001b[0m \u001b[38;5;28mprint\u001b[39m(lista, \u001b[38;5;28mlen\u001b[39m(lista))\n\u001b[1;32m----> 9\u001b[0m \u001b[38;5;28mprint\u001b[39m(\u001b[43mlista\u001b[49m\u001b[43m[\u001b[49m\u001b[38;5;241;43m5\u001b[39;49m\u001b[43m]\u001b[49m)\n",
      "\u001b[1;31mIndexError\u001b[0m: list index out of range"
     ]
    }
   ],
   "source": [
    "# definindo uma lista\n",
    "#        0 1 2 3 4\n",
    "lista = [1,2,3,4,5]\n",
    "print(lista)\n",
    "print(lista[3]) # mostrando o valor do indice 3\n",
    "print(len(lista)) # len retorna o tamanho (quantidade) de elementos\n",
    "del lista[3] # estou eliminando o indice 3 da lista\n",
    "print(lista, len(lista))\n",
    "print(lista[-1]) \n",
    "\n",
    "print(lista[-5],lista[4]) # erro de index out of range "
   ]
  },
  {
   "cell_type": "markdown",
   "metadata": {},
   "source": [
    "### funções x métodos\n",
    "* função normalmente passamos algo para ela fazer,\n",
    "ela irá ou retornar um valor ou fazer uma operação\n",
    "com o que passarmos para ela.\n",
    "* método vai normalmente trabalhar dados de um objeto\n",
    "que ele está amarrado.\n",
    "\n",
    "Exemplo de função:\n",
    "print(\"teste\") # vai imprimir o texto teste\n",
    "\n",
    "Exemplo de método:\n",
    "lista = [] # definindo uma lista\n",
    "lista.append(15) # estou inserindo o valor 15 na lista\n",
    "\\# lista = [15]"
   ]
  },
  {
   "cell_type": "code",
   "execution_count": 11,
   "metadata": {},
   "outputs": [
    {
     "name": "stdout",
     "output_type": "stream",
     "text": [
      "[10]\n",
      "['__add__', '__class__', '__class_getitem__', '__contains__', '__delattr__', '__delitem__', '__dir__', '__doc__', '__eq__', '__format__', '__ge__', '__getattribute__', '__getitem__', '__getstate__', '__gt__', '__hash__', '__iadd__', '__imul__', '__init__', '__init_subclass__', '__iter__', '__le__', '__len__', '__lt__', '__mul__', '__ne__', '__new__', '__reduce__', '__reduce_ex__', '__repr__', '__reversed__', '__rmul__', '__setattr__', '__setitem__', '__sizeof__', '__str__', '__subclasshook__', 'append', 'clear', 'copy', 'count', 'extend', 'index', 'insert', 'pop', 'remove', 'reverse', 'sort']\n"
     ]
    }
   ],
   "source": [
    "lista = []\n",
    "lista.append(10)\n",
    "print(lista)\n",
    "# como listar os métodos de um objeto\n",
    "print(dir(lista)) # mostro todos os métodos da lista"
   ]
  },
  {
   "cell_type": "markdown",
   "metadata": {},
   "source": [
    "### Método append (adiciona no final da lista)\n",
    "### Método insert (insere item em uma posição especificada)"
   ]
  },
  {
   "cell_type": "code",
   "execution_count": 12,
   "metadata": {},
   "outputs": [
    {
     "name": "stdout",
     "output_type": "stream",
     "text": [
      "[1, 2, 3, 4, 5]\n"
     ]
    }
   ],
   "source": [
    "lista = []\n",
    "lista.append(1)\n",
    "lista.append(2)\n",
    "for i in range(3,6):\n",
    "    lista.append(i)\n",
    "print(lista)"
   ]
  },
  {
   "cell_type": "code",
   "execution_count": 14,
   "metadata": {},
   "outputs": [
    {
     "name": "stdout",
     "output_type": "stream",
     "text": [
      "[5, 4, 3, 2, 1]\n"
     ]
    }
   ],
   "source": [
    "lista = []\n",
    "for i in range(1,6):\n",
    "    lista.insert(0,i) # inserindo o valor na posição 0\n",
    "print(lista)"
   ]
  },
  {
   "cell_type": "code",
   "execution_count": null,
   "metadata": {},
   "outputs": [
    {
     "name": "stdout",
     "output_type": "stream",
     "text": [
      "1,2,3,4,5,\n",
      "1-2-3-4-5-\n",
      "5|4|3|2|1|"
     ]
    }
   ],
   "source": [
    "# para interar nos itens de uma lista com for\n",
    "lista = [1,2,3,4,5]\n",
    "for it in lista:\n",
    "    print(it,end=\",\")\n",
    "print()\n",
    "# percorrendo pelo indice da lista\n",
    "for idx in range(len(lista)):\n",
    "    print(lista[idx],end=\"-\")\n",
    "print()\n",
    "# percorrendo pelo indice mas ao contrario (de trás para frente)\n",
    "for idx in range(-1,~len(lista),-1): #len(lista) = 5\n",
    "    print(lista[idx],end=\"|\")        #~5 = -6"
   ]
  },
  {
   "cell_type": "code",
   "execution_count": 23,
   "metadata": {},
   "outputs": [
    {
     "name": "stdout",
     "output_type": "stream",
     "text": [
      "10 6 5\n",
      "['__abs__', '__add__', '__and__', '__bool__', '__ceil__', '__class__', '__delattr__', '__dir__', '__divmod__', '__doc__', '__eq__', '__float__', '__floor__', '__floordiv__', '__format__', '__ge__', '__getattribute__', '__getnewargs__', '__getstate__', '__gt__', '__hash__', '__index__', '__init__', '__init_subclass__', '__int__', '__invert__', '__le__', '__lshift__', '__lt__', '__mod__', '__mul__', '__ne__', '__neg__', '__new__', '__or__', '__pos__', '__pow__', '__radd__', '__rand__', '__rdivmod__', '__reduce__', '__reduce_ex__', '__repr__', '__rfloordiv__', '__rlshift__', '__rmod__', '__rmul__', '__ror__', '__round__', '__rpow__', '__rrshift__', '__rshift__', '__rsub__', '__rtruediv__', '__rxor__', '__setattr__', '__sizeof__', '__str__', '__sub__', '__subclasshook__', '__truediv__', '__trunc__', '__xor__', 'as_integer_ratio', 'bit_count', 'bit_length', 'conjugate', 'denominator', 'from_bytes', 'imag', 'is_integer', 'numerator', 'real', 'to_bytes']\n",
      "['__abs__', '__add__', '__and__', '__bool__', '__ceil__', '__class__', '__delattr__', '__dir__', '__divmod__', '__doc__', '__eq__', '__float__', '__floor__', '__floordiv__', '__format__', '__ge__', '__getattribute__', '__getnewargs__', '__getstate__', '__gt__', '__hash__', '__index__', '__init__', '__init_subclass__', '__int__', '__invert__', '__le__', '__lshift__', '__lt__', '__mod__', '__mul__', '__ne__', '__neg__', '__new__', '__or__', '__pos__', '__pow__', '__radd__', '__rand__', '__rdivmod__', '__reduce__', '__reduce_ex__', '__repr__', '__rfloordiv__', '__rlshift__', '__rmod__', '__rmul__', '__ror__', '__round__', '__rpow__', '__rrshift__', '__rshift__', '__rsub__', '__rtruediv__', '__rxor__', '__setattr__', '__sizeof__', '__str__', '__sub__', '__subclasshook__', '__truediv__', '__trunc__', '__xor__', 'as_integer_ratio', 'bit_count', 'bit_length', 'conjugate', 'denominator', 'from_bytes', 'imag', 'is_integer', 'numerator', 'real', 'to_bytes']\n"
     ]
    }
   ],
   "source": [
    "# Operações com tipos primitivos (inteiros, string, etc)\n",
    "a = 5\n",
    "b = 6\n",
    "c = a\n",
    "a = 10\n",
    "print(a,b,c)\n",
    "print(dir(a))\n",
    "print(dir(1))"
   ]
  },
  {
   "cell_type": "code",
   "execution_count": 21,
   "metadata": {},
   "outputs": [
    {
     "name": "stdout",
     "output_type": "stream",
     "text": [
      "[1, 2, 3, 4, 5, 6] [1, 2, 3, 4, 5, 6]\n"
     ]
    }
   ],
   "source": [
    "# operação de atribuição com listas\n",
    "lista1 = [1,2,3,4,5]\n",
    "lista2 = lista1\n",
    "lista2.append(6)\n",
    "print(lista1, lista2)"
   ]
  },
  {
   "cell_type": "code",
   "execution_count": 24,
   "metadata": {},
   "outputs": [
    {
     "name": "stdout",
     "output_type": "stream",
     "text": [
      "[5, 4, 3, 2, 1]\n"
     ]
    }
   ],
   "source": [
    "lista = [1,2,3,4,5]\n",
    "lista[0], lista[-1] = lista[-1], lista[0]\n",
    "lista[1], lista[-2] = lista[-2], lista[1]\n",
    "print(lista)\n"
   ]
  },
  {
   "cell_type": "code",
   "execution_count": 27,
   "metadata": {},
   "outputs": [
    {
     "name": "stdout",
     "output_type": "stream",
     "text": [
      "[11, 10, 9, 8, 7, 6, 5, 4, 3, 2, 1]\n",
      "[11, 10, 9, 8, 7, 6, 5, 4, 3, 2, 1]\n"
     ]
    }
   ],
   "source": [
    "lista = [1,2,3,4,5,6,7,8,9,10,11]\n",
    "for idx in range(len(lista)//2):\n",
    "    lista[idx], lista[~idx] = lista[~idx], lista[idx]\n",
    "print(lista)\n",
    "lista = [1,2,3,4,5,6,7,8,9,10,11]\n",
    "lista.reverse()\n",
    "print(lista)"
   ]
  },
  {
   "cell_type": "code",
   "execution_count": 29,
   "metadata": {},
   "outputs": [
    {
     "name": "stdout",
     "output_type": "stream",
     "text": [
      "[2, 4, 6, 8, 10]\n",
      "[10, 8, 6, 4, 2]\n"
     ]
    }
   ],
   "source": [
    "lista = [8,10,6,4,2]\n",
    "lista.sort() # ordenou os valores de forma ascendente\n",
    "print(lista)\n",
    "lista.reverse() # reverto a ordem, ou seja, descendente\n",
    "print(lista)"
   ]
  }
 ],
 "metadata": {
  "kernelspec": {
   "display_name": "Python 3",
   "language": "python",
   "name": "python3"
  },
  "language_info": {
   "codemirror_mode": {
    "name": "ipython",
    "version": 3
   },
   "file_extension": ".py",
   "mimetype": "text/x-python",
   "name": "python",
   "nbconvert_exporter": "python",
   "pygments_lexer": "ipython3",
   "version": "3.13.0"
  }
 },
 "nbformat": 4,
 "nbformat_minor": 2
}
