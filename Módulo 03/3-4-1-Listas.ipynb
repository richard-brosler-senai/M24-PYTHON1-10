{
 "cells": [
  {
   "cell_type": "markdown",
   "metadata": {},
   "source": [
    "# Listas\n",
    "```python\n",
    "nota01 = float(input(\"Digite a nota do aluno 01: \"))\n",
    "nota02 = float(input(\"Digite a nota do aluno 02: \"))\n",
    "# ....\n",
    "notann = float(input(\"Digite a nota do aluno nn: \"))\n",
    "```\n",
    "Isso é inviável na programação, imaginem 100 alunos?\n",
    "```python\n",
    "lista = [] # defino uma lista vazia\n",
    "listaNumeros = [1,2,3,4,5] # Lista de números inteiros\n",
    "```"
   ]
  },
  {
   "cell_type": "code",
   "execution_count": null,
   "metadata": {},
   "outputs": [
    {
     "name": "stdout",
     "output_type": "stream",
     "text": [
      "[1, 2, 3, 4, 5]\n",
      "4\n",
      "5\n",
      "[1, 2, 3, 5] 4\n"
     ]
    },
    {
     "ename": "IndexError",
     "evalue": "list index out of range",
     "output_type": "error",
     "traceback": [
      "\u001b[1;31m---------------------------------------------------------------------------\u001b[0m",
      "\u001b[1;31mIndexError\u001b[0m                                Traceback (most recent call last)",
      "Cell \u001b[1;32mIn[9], line 9\u001b[0m\n\u001b[0;32m      7\u001b[0m \u001b[38;5;28;01mdel\u001b[39;00m lista[\u001b[38;5;241m3\u001b[39m] \u001b[38;5;66;03m# estou eliminando o indice 3 da lista\u001b[39;00m\n\u001b[0;32m      8\u001b[0m \u001b[38;5;28mprint\u001b[39m(lista, \u001b[38;5;28mlen\u001b[39m(lista))\n\u001b[1;32m----> 9\u001b[0m \u001b[38;5;28mprint\u001b[39m(\u001b[43mlista\u001b[49m\u001b[43m[\u001b[49m\u001b[38;5;241;43m5\u001b[39;49m\u001b[43m]\u001b[49m)\n",
      "\u001b[1;31mIndexError\u001b[0m: list index out of range"
     ]
    }
   ],
   "source": [
    "# definindo uma lista\n",
    "#        0 1 2 3 4\n",
    "lista = [1,2,3,4,5]\n",
    "print(lista)\n",
    "print(lista[3]) # mostrando o valor do indice 3\n",
    "print(len(lista)) # len retorna o tamanho (quantidade) de elementos\n",
    "del lista[3] # estou eliminando o indice 3 da lista\n",
    "print(lista, len(lista))\n",
    "print(lista[-1]) \n",
    "\n",
    "print(lista[-5],lista[4]) # erro de index out of range "
   ]
  },
  {
   "cell_type": "markdown",
   "metadata": {},
   "source": [
    "### funções x métodos\n",
    "* função normalmente passamos algo para ela fazer,\n",
    "ela irá ou retornar um valor ou fazer uma operação\n",
    "com o que passarmos para ela.\n",
    "* método vai normalmente trabalhar dados de um objeto\n",
    "que ele está amarrado.\n",
    "\n",
    "Exemplo de função:\n",
    "print(\"teste\") # vai imprimir o texto teste\n",
    "\n",
    "Exemplo de método:\n",
    "lista = [] # definindo uma lista\n",
    "lista.append(15) # estou inserindo o valor 15 na lista\n",
    "\\# lista = [15]"
   ]
  },
  {
   "cell_type": "code",
   "execution_count": null,
   "metadata": {},
   "outputs": [],
   "source": [
    "lista = []\n",
    "lista.append(10)\n",
    "print(lista)"
   ]
  }
 ],
 "metadata": {
  "kernelspec": {
   "display_name": "Python 3",
   "language": "python",
   "name": "python3"
  },
  "language_info": {
   "codemirror_mode": {
    "name": "ipython",
    "version": 3
   },
   "file_extension": ".py",
   "mimetype": "text/x-python",
   "name": "python",
   "nbconvert_exporter": "python",
   "pygments_lexer": "ipython3",
   "version": "3.13.0"
  }
 },
 "nbformat": 4,
 "nbformat_minor": 2
}
