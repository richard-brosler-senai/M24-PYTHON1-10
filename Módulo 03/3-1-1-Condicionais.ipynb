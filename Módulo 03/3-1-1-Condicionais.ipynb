{
 "cells": [
  {
   "cell_type": "markdown",
   "metadata": {},
   "source": [
    "# Condicionais em Python\n",
    "## Operadores relacionais\n",
    "### operador de igualdade ( == )"
   ]
  },
  {
   "cell_type": "code",
   "execution_count": 4,
   "metadata": {},
   "outputs": [
    {
     "name": "stdout",
     "output_type": "stream",
     "text": [
      "False\n",
      "True\n",
      "True\n",
      "False\n"
     ]
    }
   ],
   "source": [
    "print( 1 == 2)\n",
    "print( 2 == 2.0 )\n",
    "print( \"AB\" == \"AB\" )\n",
    "print( \"AB\" == \"ab\" )"
   ]
  },
  {
   "cell_type": "markdown",
   "metadata": {},
   "source": [
    "### Operador de desigualdade ( != )"
   ]
  },
  {
   "cell_type": "code",
   "execution_count": 5,
   "metadata": {},
   "outputs": [
    {
     "name": "stdout",
     "output_type": "stream",
     "text": [
      "True\n",
      "False\n",
      "False\n",
      "True\n"
     ]
    }
   ],
   "source": [
    "print(1 != 2)\n",
    "print(2 != 2.0)\n",
    "print(\"AB\" != \"AB\")\n",
    "print(\"AB\" != \"ab\")"
   ]
  },
  {
   "cell_type": "markdown",
   "metadata": {},
   "source": [
    "### Maior que (>), maior igual a (>=)\n",
    "### Menor que (<), menor igual a (<=)"
   ]
  },
  {
   "cell_type": "code",
   "execution_count": 6,
   "metadata": {},
   "outputs": [
    {
     "name": "stdout",
     "output_type": "stream",
     "text": [
      "False\n",
      "True\n",
      "True\n",
      "True\n"
     ]
    }
   ],
   "source": [
    "print(1 > 2)\n",
    "print(3 >= 3)\n",
    "print(1 < 2)\n",
    "print(2 <= 3)"
   ]
  },
  {
   "cell_type": "code",
   "execution_count": 7,
   "metadata": {},
   "outputs": [
    {
     "name": "stdout",
     "output_type": "stream",
     "text": [
      "False\n"
     ]
    }
   ],
   "source": [
    "# Exemplo de operação logica\n",
    "valor = 5 + 3 * 2 > 15\n",
    "print(valor)"
   ]
  },
  {
   "cell_type": "markdown",
   "metadata": {},
   "source": [
    "### Atualizando a lista de prioridades no python\n",
    "| seq | Operador | Descrição\n",
    "| --- |:--------:| ---------\n",
    "| 1 | () | Parenteses\n",
    "| 2 | ** | Exponenciação\n",
    "| 3 | +,- | Operadores unários (sinais)\n",
    "| 4 | /,//,%,* | Multiplicação, divisão e resto\n",
    "| 5 | +,- | Soma e subtração\n",
    "| 6 | >,>=,<,<= | Operadores relacionais exceto igualdade e diferença\n",
    "| 7 | ==, != | Igualdade e diferença"
   ]
  },
  {
   "cell_type": "markdown",
   "metadata": {},
   "source": [
    "### if (condição)\n",
    "```python\n",
    "if teste_verdadeiro:\n",
    "  operacao1\n",
    "  operacao2\n",
    "codigo_fora_if\n",
    "```"
   ]
  },
  {
   "cell_type": "code",
   "execution_count": 11,
   "metadata": {},
   "outputs": [
    {
     "name": "stdout",
     "output_type": "stream",
     "text": [
      "Você pode dirigir\n",
      "Desde que tenha carta\n",
      "Fim do programa\n"
     ]
    }
   ],
   "source": [
    "idade = 19\n",
    "if idade >= 18:\n",
    "    print('Você pode dirigir')\n",
    "    print('Desde que tenha carta')\n",
    "print('Fim do programa')"
   ]
  },
  {
   "cell_type": "markdown",
   "metadata": {},
   "source": [
    "### else"
   ]
  },
  {
   "cell_type": "code",
   "execution_count": 13,
   "metadata": {},
   "outputs": [
    {
     "name": "stdout",
     "output_type": "stream",
     "text": [
      "Pode dirigir\n",
      "Desde que tenha carta\n",
      "Fim do programa\n"
     ]
    }
   ],
   "source": [
    "idade = 18\n",
    "if idade >= 18:\n",
    "    print(\"Pode dirigir\")\n",
    "    print(\"Desde que tenha carta\")\n",
    "else:\n",
    "    print(\"Não pode dirigir\")\n",
    "    print(\"Espere até ser maior\")\n",
    "print(\"Fim do programa\")"
   ]
  },
  {
   "cell_type": "code",
   "execution_count": null,
   "metadata": {},
   "outputs": [],
   "source": [
    "# elif\n",
    "idade = 16\n",
    "if idade >= 60:\n",
    "    print(\"Pode dirigir\")\n",
    "    print(\"Mas com muito cuidado!\")\n",
    "elif idade>=50:\n",
    "    print(\"Pode dirigir\")\n",
    "    print(\"Faça exames regularmente\")\n",
    "elif idade>=18:\n",
    "    print(\"Pode dirigir\")\n",
    "    print('Desde que tenha carta')\n",
    "else:\n",
    "    print(\"Não pode dirigir\")\n",
    "    print(\"Espere mais um pouco\")\n",
    "print(\"Fim do programa\")"
   ]
  },
  {
   "cell_type": "code",
   "execution_count": 16,
   "metadata": {},
   "outputs": [
    {
     "name": "stdout",
     "output_type": "stream",
     "text": [
      "Nome2 é maior\n",
      "Fim do programa\n"
     ]
    }
   ],
   "source": [
    "nome1 = \"RICHARD\"\n",
    "nome2 = \"RICHARD \"\n",
    "if nome1 >= nome2: print(\"Nome1 é maior\")\n",
    "else: print(\"Nome2 é maior\")\n",
    "print(\"Fim do programa\")"
   ]
  },
  {
   "cell_type": "code",
   "execution_count": null,
   "metadata": {},
   "outputs": [],
   "source": [
    "# lab 3.1.12\n",
    "\"\"\"\n",
    "se o número do ano não é divisível por quatro, é um ano comum;\n",
    "caso contrário, se o número do ano não for divisível por 100, será um ano bissexto;\n",
    "caso contrário, se o número do ano não for divisível por 400, é um ano comum ;\n",
    "caso contrário, é um ano bissexto .\n",
    "\"\"\"\n",
    "year = int(input(\"Digite um ano: \"))\n",
    "\n",
    "if year < 1582:\n",
    "  print(\"Não dentro do período do calendário gregoriano\")\n",
    "else:\n",
    "  # Escreve o bloco se-então aqui\n",
    "  if year % 4 != 0:\n",
    "      print(\"Ano Comum\")\n",
    "  elif year % 100 != 0:\n",
    "      print(\"Ano bissexto\")\n",
    "  elif year % 400 != 0:\n",
    "     print(\"Ano Comum\")\n",
    "  else:\n",
    "     print(\"Ano bissexto\")"
   ]
  }
 ],
 "metadata": {
  "kernelspec": {
   "display_name": "Python 3",
   "language": "python",
   "name": "python3"
  },
  "language_info": {
   "codemirror_mode": {
    "name": "ipython",
    "version": 3
   },
   "file_extension": ".py",
   "mimetype": "text/x-python",
   "name": "python",
   "nbconvert_exporter": "python",
   "pygments_lexer": "ipython3",
   "version": "3.13.0"
  }
 },
 "nbformat": 4,
 "nbformat_minor": 2
}
