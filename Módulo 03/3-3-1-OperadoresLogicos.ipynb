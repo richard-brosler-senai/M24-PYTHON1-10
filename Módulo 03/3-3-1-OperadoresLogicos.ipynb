{
 "cells": [
  {
   "cell_type": "markdown",
   "metadata": {},
   "source": [
    "# Operadores Lógicos\n",
    "### Operador lógico and\n",
    "a | b | a and b\n",
    "-- | -- | --\n",
    "True | True | True\n",
    "True | False | False\n",
    "False | True | False\n",
    "False | False | False"
   ]
  },
  {
   "cell_type": "code",
   "execution_count": null,
   "metadata": {},
   "outputs": [
    {
     "name": "stdout",
     "output_type": "stream",
     "text": [
      "False\n",
      "True\n",
      "True\n"
     ]
    }
   ],
   "source": [
    "print(1 > 2 and 2 == 2)\n",
    "print(2>1 and 3>2)\n",
    "print(5 > 4 > 3 > 2 > 1)\n",
    "# 5>4 and 4>3 and 3>2 and 2>1"
   ]
  },
  {
   "cell_type": "markdown",
   "metadata": {},
   "source": [
    "### operador or\n",
    "a | b | a or b\n",
    "-- | -- | --\n",
    "True | True | True\n",
    "False | True | True\n",
    "True | False | True\n",
    "False | False | False"
   ]
  },
  {
   "cell_type": "code",
   "execution_count": 4,
   "metadata": {},
   "outputs": [
    {
     "name": "stdout",
     "output_type": "stream",
     "text": [
      "True\n"
     ]
    }
   ],
   "source": [
    "print(1>2 or 2==2)"
   ]
  },
  {
   "cell_type": "markdown",
   "metadata": {},
   "source": [
    "### operador not"
   ]
  },
  {
   "cell_type": "code",
   "execution_count": 5,
   "metadata": {},
   "outputs": [
    {
     "name": "stdout",
     "output_type": "stream",
     "text": [
      "False\n",
      "True\n"
     ]
    }
   ],
   "source": [
    "print(not True)\n",
    "print(not False)"
   ]
  },
  {
   "cell_type": "code",
   "execution_count": null,
   "metadata": {},
   "outputs": [
    {
     "name": "stdout",
     "output_type": "stream",
     "text": [
      "Idade deve ser entre 18 e 24 anos\n",
      "Fim do programa\n"
     ]
    }
   ],
   "source": [
    "# Digite uma idade entre 18 e 24 anos\n",
    "idade = 0\n",
    "while idade<18 or idade>24:\n",
    "    idade = int(input(\"Digite sua idade (18-24): \"))\n",
    "    if not(idade>=18 and idade<=24):\n",
    "        print(\"Idade deve ser entre 18 e 24 anos\")\n",
    "print(\"Fim do programa\")"
   ]
  },
  {
   "cell_type": "markdown",
   "metadata": {},
   "source": [
    "### operadores bit a bit\n",
    "#### operador & (and bit-a-bit)"
   ]
  },
  {
   "cell_type": "code",
   "execution_count": 15,
   "metadata": {},
   "outputs": [
    {
     "name": "stdout",
     "output_type": "stream",
     "text": [
      "0101 5\n",
      "0111 7\n",
      "---- a & b\n",
      "0101 5 "
     ]
    }
   ],
   "source": [
    "a = 5 # 0101\n",
    "b = 7 # 0111\n",
    "print(f\"{a:04b}\",a)\n",
    "print(f\"{b:04b}\",b)\n",
    "print(\"-\"*4,\"a & b\")\n",
    "print(f\"{(a & b):04b}\",a & b,end=' ')"
   ]
  },
  {
   "cell_type": "markdown",
   "metadata": {},
   "source": [
    "#### Operador | (or bit-a-bit)"
   ]
  },
  {
   "cell_type": "code",
   "execution_count": 1,
   "metadata": {},
   "outputs": [
    {
     "name": "stdout",
     "output_type": "stream",
     "text": [
      "0101 5\n",
      "0111 7\n",
      "---- a | b\n",
      "0111 7 "
     ]
    }
   ],
   "source": [
    "a = 5 # 0101\n",
    "b = 7 # 0111\n",
    "print(f\"{a:04b}\",a)\n",
    "print(f\"{b:04b}\",b)\n",
    "print(\"-\"*4,\"a | b\")\n",
    "print(f\"{(a | b):04b}\",a | b,end=' ')"
   ]
  },
  {
   "cell_type": "markdown",
   "metadata": {},
   "source": [
    "#### Operador ^ (xor bit-a-bit)\n",
    "Valores iguais (0 ou 1) na operação serão 0 de resultado.\n",
    "| valor a | valor b | a ^ b \n",
    "| ------- | ------- | -----\n",
    "| 0 | 0 | 0\n",
    "| 0 | 1 | 1\n",
    "| 1 | 0 | 1\n",
    "| 1 | 1 | 0"
   ]
  },
  {
   "cell_type": "code",
   "execution_count": 2,
   "metadata": {},
   "outputs": [
    {
     "name": "stdout",
     "output_type": "stream",
     "text": [
      "0101 5\n",
      "0111 7\n",
      "---- a ^ b\n",
      "0010 2 "
     ]
    }
   ],
   "source": [
    "a = 5 # 0101\n",
    "b = 7 # 0111\n",
    "print(f\"{a:04b}\",a)\n",
    "print(f\"{b:04b}\",b)\n",
    "print(\"-\"*4,\"a ^ b\")\n",
    "print(f\"{(a ^ b):04b}\",a ^ b,end=' ')"
   ]
  },
  {
   "cell_type": "markdown",
   "metadata": {},
   "source": [
    "#### deslocamento de bit para à esquerda (<<)"
   ]
  },
  {
   "cell_type": "code",
   "execution_count": 6,
   "metadata": {},
   "outputs": [
    {
     "name": "stdout",
     "output_type": "stream",
     "text": [
      "0010\n",
      "1000 8\n",
      "00101000 40\n"
     ]
    }
   ],
   "source": [
    "valor = 2 # 10\n",
    "print(f\"{valor:04b}\")\n",
    "print(f\"{(valor<<2):04b}\",valor<<2)\n",
    "valor = 5 # 101\n",
    "print(f\"{(valor<<3):08b}\",valor<<3)"
   ]
  },
  {
   "cell_type": "markdown",
   "metadata": {},
   "source": [
    "#### deslocamento de bit para direita (>>)"
   ]
  },
  {
   "cell_type": "code",
   "execution_count": 7,
   "metadata": {},
   "outputs": [
    {
     "name": "stdout",
     "output_type": "stream",
     "text": [
      "0101 5\n",
      "0001 1\n"
     ]
    }
   ],
   "source": [
    "valor = 5 # 101\n",
    "print(f\"{valor:04b}\",valor)\n",
    "print(f\"{(valor>>2):04b}\",valor>>2)"
   ]
  },
  {
   "cell_type": "markdown",
   "metadata": {},
   "source": [
    "### Lista atualizada de prioridades de operadores no python\n",
    "| seq | Operador | Descrição\n",
    "| --- |:--------:| ---------\n",
    "| 1 | () | Parenteses\n",
    "| 2 | ** | Exponenciação\n",
    "| 3 | +,- | Operadores unários (sinais)\n",
    "| 4 | /,//,%,* | Multiplicação, divisão e resto\n",
    "| 5 | +,- | Soma e subtração\n",
    "| 6 | >,>=,<,<= | Operadores relacionais exceto igualdade e diferença\n",
    "| 7 | ==, != | Igualdade e diferença\n",
    "| 8 | & | operador and bit-a-bit\n",
    "| 9 | \\| | operador or bit-a-bit\n",
    "| 10 | ^ | operador xor bit-a-bit\n",
    "| 11 | op= | operadores de atalho (+,-,*,/,//,&,\\|,^)"
   ]
  },
  {
   "cell_type": "markdown",
   "metadata": {},
   "source": [
    "#### operador complemento (~)"
   ]
  },
  {
   "cell_type": "code",
   "execution_count": 9,
   "metadata": {},
   "outputs": [
    {
     "name": "stdout",
     "output_type": "stream",
     "text": [
      "-6\n",
      "0101 5\n",
      "-0000110 -6\n"
     ]
    }
   ],
   "source": [
    "valor = 5\n",
    "print(~valor)\n",
    "print(f\"{valor:04b}\", valor)\n",
    "print(f\"{~valor:08b}\", ~valor)"
   ]
  }
 ],
 "metadata": {
  "kernelspec": {
   "display_name": "Python 3",
   "language": "python",
   "name": "python3"
  },
  "language_info": {
   "codemirror_mode": {
    "name": "ipython",
    "version": 3
   },
   "file_extension": ".py",
   "mimetype": "text/x-python",
   "name": "python",
   "nbconvert_exporter": "python",
   "pygments_lexer": "ipython3",
   "version": "3.13.0"
  }
 },
 "nbformat": 4,
 "nbformat_minor": 2
}
