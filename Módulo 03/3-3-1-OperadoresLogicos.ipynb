{
 "cells": [
  {
   "cell_type": "markdown",
   "metadata": {},
   "source": [
    "# Operadores Lógicos\n",
    "### Operador lógico and\n",
    "a | b | a and b\n",
    "-- | -- | --\n",
    "True | True | True\n",
    "True | False | False\n",
    "False | True | False\n",
    "False | False | False"
   ]
  },
  {
   "cell_type": "code",
   "execution_count": null,
   "metadata": {},
   "outputs": [
    {
     "name": "stdout",
     "output_type": "stream",
     "text": [
      "False\n",
      "True\n",
      "True\n"
     ]
    }
   ],
   "source": [
    "print(1 > 2 and 2 == 2)\n",
    "print(2>1 and 3>2)\n",
    "print(5 > 4 > 3 > 2 > 1)\n",
    "# 5>4 and 4>3 and 3>2 and 2>1"
   ]
  },
  {
   "cell_type": "markdown",
   "metadata": {},
   "source": [
    "### operador or\n",
    "a | b | a or b\n",
    "-- | -- | --\n",
    "True | True | True\n",
    "False | True | True\n",
    "True | False | True\n",
    "False | False | False"
   ]
  },
  {
   "cell_type": "code",
   "execution_count": 4,
   "metadata": {},
   "outputs": [
    {
     "name": "stdout",
     "output_type": "stream",
     "text": [
      "True\n"
     ]
    }
   ],
   "source": [
    "print(1>2 or 2==2)"
   ]
  },
  {
   "cell_type": "markdown",
   "metadata": {},
   "source": [
    "### operador not"
   ]
  },
  {
   "cell_type": "code",
   "execution_count": 5,
   "metadata": {},
   "outputs": [
    {
     "name": "stdout",
     "output_type": "stream",
     "text": [
      "False\n",
      "True\n"
     ]
    }
   ],
   "source": [
    "print(not True)\n",
    "print(not False)"
   ]
  },
  {
   "cell_type": "code",
   "execution_count": null,
   "metadata": {},
   "outputs": [
    {
     "name": "stdout",
     "output_type": "stream",
     "text": [
      "Idade deve ser entre 18 e 24 anos\n",
      "Fim do programa\n"
     ]
    }
   ],
   "source": [
    "# Digite uma idade entre 18 e 24 anos\n",
    "idade = 0\n",
    "while idade<18 or idade>24:\n",
    "    idade = int(input(\"Digite sua idade (18-24): \"))\n",
    "    if not(idade>=18 and idade<=24):\n",
    "        print(\"Idade deve ser entre 18 e 24 anos\")\n",
    "print(\"Fim do programa\")"
   ]
  },
  {
   "cell_type": "markdown",
   "metadata": {},
   "source": [
    "### operadores bit a bit\n",
    "#### operador & (and bit-a-bit)"
   ]
  },
  {
   "cell_type": "code",
   "execution_count": null,
   "metadata": {},
   "outputs": [
    {
     "name": "stdout",
     "output_type": "stream",
     "text": [
      "0101\n",
      "0111\n",
      "---- a & b\n",
      "0101 5\n"
     ]
    }
   ],
   "source": [
    "a = 5 # 0101\n",
    "b = 7 # 0111\n",
    "print(f\"{a:04b}\")\n",
    "print(f\"{b:04b}\")\n",
    "print(\"-\"*4,\"a & b\")\n",
    "print(f\"{(a & b):04b}\",a & b)"
   ]
  }
 ],
 "metadata": {
  "kernelspec": {
   "display_name": "Python 3",
   "language": "python",
   "name": "python3"
  },
  "language_info": {
   "codemirror_mode": {
    "name": "ipython",
    "version": 3
   },
   "file_extension": ".py",
   "mimetype": "text/x-python",
   "name": "python",
   "nbconvert_exporter": "python",
   "pygments_lexer": "ipython3",
   "version": "3.13.0"
  }
 },
 "nbformat": 4,
 "nbformat_minor": 2
}
